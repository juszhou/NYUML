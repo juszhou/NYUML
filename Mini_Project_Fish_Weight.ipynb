{
  "nbformat": 4,
  "nbformat_minor": 0,
  "metadata": {
    "colab": {
      "name": "Copy of Mini Project - Fish Weight.ipynb",
      "provenance": [],
      "include_colab_link": true
    },
    "kernelspec": {
      "display_name": "Python 3",
      "language": "python",
      "name": "python3"
    },
    "language_info": {
      "codemirror_mode": {
        "name": "ipython",
        "version": 3
      },
      "file_extension": ".py",
      "mimetype": "text/x-python",
      "name": "python",
      "nbconvert_exporter": "python",
      "pygments_lexer": "ipython3",
      "version": "3.7.0"
    },
    "latex_envs": {
      "LaTeX_envs_menu_present": true,
      "autoclose": true,
      "autocomplete": true,
      "bibliofile": "biblio.bib",
      "cite_by": "apalike",
      "current_citInitial": 1,
      "eqLabelWithNumbers": true,
      "eqNumInitial": 1,
      "hotkeys": {
        "equation": "Ctrl-E",
        "itemize": "Ctrl-I"
      },
      "labels_anchors": false,
      "latex_user_defs": false,
      "report_style_numbering": false,
      "user_envs_cfg": false
    }
  },
  "cells": [
    {
      "cell_type": "markdown",
      "metadata": {
        "id": "view-in-github",
        "colab_type": "text"
      },
      "source": [
        "<a href=\"https://colab.research.google.com/github/juszhou/NYUML/blob/main/Copy_of_Mini_Project_Fish_Weight.ipynb\" target=\"_parent\"><img src=\"https://colab.research.google.com/assets/colab-badge.svg\" alt=\"Open In Colab\"/></a>"
      ]
    },
    {
      "cell_type": "code",
      "metadata": {
        "id": "EjOoKJazwe0W"
      },
      "source": [
        "  import numpy as np\n",
        "import pandas as pd\n",
        "import matplotlib.pyplot as plt\n",
        "from sklearn import linear_model\n",
        "from sklearn.model_selection import train_test_split\n",
        "from sklearn.metrics import mean_absolute_error, mean_squared_error\n",
        "from sklearn.preprocessing import PolynomialFeatures"
      ],
      "execution_count": null,
      "outputs": []
    },
    {
      "cell_type": "code",
      "metadata": {
        "id": "KR-q6CIawe0a",
        "colab": {
          "base_uri": "https://localhost:8080/",
          "height": 204
        },
        "outputId": "88e92962-1d7a-4263-d6c2-49cb534b30b9"
      },
      "source": [
        "feature = pd.read_csv('https://raw.githubusercontent.com/BolunDai0216/NYUMLSummerSchool21/main/day05/fish_market_feature.csv')\n",
        "label = pd.read_csv('https://raw.githubusercontent.com/BolunDai0216/NYUMLSummerSchool21/main/day05/fish_market_label.csv')\n",
        "X = feature.values\n",
        "y = label.values\n",
        "\n",
        "feature.head(5)\n"
      ],
      "execution_count": null,
      "outputs": [
        {
          "output_type": "execute_result",
          "data": {
            "text/html": [
              "<div>\n",
              "<style scoped>\n",
              "    .dataframe tbody tr th:only-of-type {\n",
              "        vertical-align: middle;\n",
              "    }\n",
              "\n",
              "    .dataframe tbody tr th {\n",
              "        vertical-align: top;\n",
              "    }\n",
              "\n",
              "    .dataframe thead th {\n",
              "        text-align: right;\n",
              "    }\n",
              "</style>\n",
              "<table border=\"1\" class=\"dataframe\">\n",
              "  <thead>\n",
              "    <tr style=\"text-align: right;\">\n",
              "      <th></th>\n",
              "      <th>Length1</th>\n",
              "      <th>Length2</th>\n",
              "      <th>Length3</th>\n",
              "      <th>Height</th>\n",
              "      <th>Width</th>\n",
              "    </tr>\n",
              "  </thead>\n",
              "  <tbody>\n",
              "    <tr>\n",
              "      <th>0</th>\n",
              "      <td>11.7</td>\n",
              "      <td>12.4</td>\n",
              "      <td>13.5</td>\n",
              "      <td>2.4300</td>\n",
              "      <td>1.2690</td>\n",
              "    </tr>\n",
              "    <tr>\n",
              "      <th>1</th>\n",
              "      <td>19.0</td>\n",
              "      <td>20.7</td>\n",
              "      <td>23.2</td>\n",
              "      <td>9.3960</td>\n",
              "      <td>3.4104</td>\n",
              "    </tr>\n",
              "    <tr>\n",
              "      <th>2</th>\n",
              "      <td>38.0</td>\n",
              "      <td>41.0</td>\n",
              "      <td>46.5</td>\n",
              "      <td>17.6235</td>\n",
              "      <td>6.3705</td>\n",
              "    </tr>\n",
              "    <tr>\n",
              "      <th>3</th>\n",
              "      <td>13.2</td>\n",
              "      <td>14.3</td>\n",
              "      <td>15.2</td>\n",
              "      <td>2.8728</td>\n",
              "      <td>2.0672</td>\n",
              "    </tr>\n",
              "    <tr>\n",
              "      <th>4</th>\n",
              "      <td>37.3</td>\n",
              "      <td>40.0</td>\n",
              "      <td>43.5</td>\n",
              "      <td>12.3540</td>\n",
              "      <td>6.5250</td>\n",
              "    </tr>\n",
              "  </tbody>\n",
              "</table>\n",
              "</div>"
            ],
            "text/plain": [
              "   Length1  Length2  Length3   Height   Width\n",
              "0     11.7     12.4     13.5   2.4300  1.2690\n",
              "1     19.0     20.7     23.2   9.3960  3.4104\n",
              "2     38.0     41.0     46.5  17.6235  6.3705\n",
              "3     13.2     14.3     15.2   2.8728  2.0672\n",
              "4     37.3     40.0     43.5  12.3540  6.5250"
            ]
          },
          "metadata": {
            "tags": []
          },
          "execution_count": 46
        }
      ]
    },
    {
      "cell_type": "code",
      "metadata": {
        "colab": {
          "base_uri": "https://localhost:8080/",
          "height": 204
        },
        "id": "REh6CJSGtqbM",
        "outputId": "88fd3d4c-93d0-42ee-bf6c-44276e4c4abd"
      },
      "source": [
        "label.head(5)"
      ],
      "execution_count": null,
      "outputs": [
        {
          "output_type": "execute_result",
          "data": {
            "text/html": [
              "<div>\n",
              "<style scoped>\n",
              "    .dataframe tbody tr th:only-of-type {\n",
              "        vertical-align: middle;\n",
              "    }\n",
              "\n",
              "    .dataframe tbody tr th {\n",
              "        vertical-align: top;\n",
              "    }\n",
              "\n",
              "    .dataframe thead th {\n",
              "        text-align: right;\n",
              "    }\n",
              "</style>\n",
              "<table border=\"1\" class=\"dataframe\">\n",
              "  <thead>\n",
              "    <tr style=\"text-align: right;\">\n",
              "      <th></th>\n",
              "      <th>Weight</th>\n",
              "    </tr>\n",
              "  </thead>\n",
              "  <tbody>\n",
              "    <tr>\n",
              "      <th>0</th>\n",
              "      <td>13.4</td>\n",
              "    </tr>\n",
              "    <tr>\n",
              "      <th>1</th>\n",
              "      <td>170.0</td>\n",
              "    </tr>\n",
              "    <tr>\n",
              "      <th>2</th>\n",
              "      <td>950.0</td>\n",
              "    </tr>\n",
              "    <tr>\n",
              "      <th>3</th>\n",
              "      <td>19.7</td>\n",
              "    </tr>\n",
              "    <tr>\n",
              "      <th>4</th>\n",
              "      <td>1000.0</td>\n",
              "    </tr>\n",
              "  </tbody>\n",
              "</table>\n",
              "</div>"
            ],
            "text/plain": [
              "   Weight\n",
              "0    13.4\n",
              "1   170.0\n",
              "2   950.0\n",
              "3    19.7\n",
              "4  1000.0"
            ]
          },
          "metadata": {
            "tags": []
          },
          "execution_count": 47
        }
      ]
    },
    {
      "cell_type": "code",
      "metadata": {
        "id": "O82IXeAmr2Ps",
        "colab": {
          "base_uri": "https://localhost:8080/"
        },
        "outputId": "0b209318-de84-4a5c-8c91-5f56be9dc4d3"
      },
      "source": [
        "X.shape, y.shape"
      ],
      "execution_count": null,
      "outputs": [
        {
          "output_type": "execute_result",
          "data": {
            "text/plain": [
              "((124, 5), (124, 1))"
            ]
          },
          "metadata": {
            "tags": []
          },
          "execution_count": 48
        }
      ]
    },
    {
      "cell_type": "code",
      "metadata": {
        "id": "1TyiBxkavaKX"
      },
      "source": [
        "Xtrain, Xval, Ytrain, Yval = train_test_split(X, y, test_size=0.2)"
      ],
      "execution_count": null,
      "outputs": []
    },
    {
      "cell_type": "code",
      "metadata": {
        "colab": {
          "base_uri": "https://localhost:8080/"
        },
        "id": "46WX5Jdv07s5",
        "outputId": "e6ebc3ca-e1de-4925-a5ca-327a2273723c"
      },
      "source": [
        "Xtrain.shape\n",
        "print(enumerate([1, 2, 5]))"
      ],
      "execution_count": null,
      "outputs": [
        {
          "output_type": "stream",
          "text": [
            "<enumerate object at 0x7f4a605b54b0>\n"
          ],
          "name": "stdout"
        }
      ]
    },
    {
      "cell_type": "code",
      "metadata": {
        "id": "ywlTbXV8PKx2",
        "colab": {
          "base_uri": "https://localhost:8080/"
        },
        "outputId": "80348f08-168e-4b0c-dfb2-a74a82da04fa"
      },
      "source": [
        "\n",
        "def design_matrix(x, z, Mx, Mz):\n",
        "    # 1. create the empty array of ones\n",
        "    ones = np.ones((x.shape[0],1))\n",
        "    Design_Matrix_x = np.ones((x.shape[0],Mx))  # use the np.ones function\n",
        "    Design_Matrix_z = np.ones((x.shape[0],Mz))\n",
        "    \n",
        "    # 2. use a for loop to populate the Design_Matrix columnwise\n",
        "    for i, j in enumerate([1, 2, 5]):\n",
        "        Design_Matrix_x[:,i] = x**j  # provide an expression for each column of Design_Matrix\n",
        "    for i, j in enumerate([1, 3]):\n",
        "        Design_Matrix_z[:,i] = z**j\n",
        "        \n",
        "    Design_Matrix = np.hstack((Design_Matrix_x, Design_Matrix_z))\n",
        "    Design_Matrix = np.hstack((ones, Design_Matrix))\n",
        "    \n",
        "    return Design_Matrix\n",
        "\n",
        "\n",
        "x = np.arange(10)  # x = [0, 1, 2, 3, ..., 99]\n",
        "z = np.arange(1,11)  # z = [0, 1, 2, 3, ..., 99]\n",
        "Design_Matrix = design_matrix(x, z, 3, 2) \n",
        "print(Design_Matrix)"
      ],
      "execution_count": null,
      "outputs": [
        {
          "output_type": "stream",
          "text": [
            "[[1.0000e+00 0.0000e+00 0.0000e+00 0.0000e+00 1.0000e+00 1.0000e+00]\n",
            " [1.0000e+00 1.0000e+00 1.0000e+00 1.0000e+00 2.0000e+00 8.0000e+00]\n",
            " [1.0000e+00 2.0000e+00 4.0000e+00 3.2000e+01 3.0000e+00 2.7000e+01]\n",
            " [1.0000e+00 3.0000e+00 9.0000e+00 2.4300e+02 4.0000e+00 6.4000e+01]\n",
            " [1.0000e+00 4.0000e+00 1.6000e+01 1.0240e+03 5.0000e+00 1.2500e+02]\n",
            " [1.0000e+00 5.0000e+00 2.5000e+01 3.1250e+03 6.0000e+00 2.1600e+02]\n",
            " [1.0000e+00 6.0000e+00 3.6000e+01 7.7760e+03 7.0000e+00 3.4300e+02]\n",
            " [1.0000e+00 7.0000e+00 4.9000e+01 1.6807e+04 8.0000e+00 5.1200e+02]\n",
            " [1.0000e+00 8.0000e+00 6.4000e+01 3.2768e+04 9.0000e+00 7.2900e+02]\n",
            " [1.0000e+00 9.0000e+00 8.1000e+01 5.9049e+04 1.0000e+01 1.0000e+03]]\n"
          ],
          "name": "stdout"
        }
      ]
    },
    {
      "cell_type": "code",
      "metadata": {
        "colab": {
          "base_uri": "https://localhost:8080/",
          "height": 334
        },
        "id": "JAZHPikqZ88f",
        "outputId": "871bb2bb-462f-4e9f-9e75-e2f3bf199428"
      },
      "source": [
        "\n",
        "def design_matrix(a,b,c,d,e, Ma, Mb, Mc,Md, Me):\n",
        "    # 1. create the empty array of ones\n",
        "    ones = np.ones((a.shape[0],5))\n",
        "    Design_Matrix_a = np.ones((x.shape[0],Ma))  # use the np.ones function\n",
        "    Design_Matrix_b = np.ones((x.shape[0],Mb))\n",
        "    Design_Matrix_c = np.ones((x.shape[0],Mc))  # use the np.ones function\n",
        "    Design_Matrix_d = np.ones((x.shape[0],Md))\n",
        "    Design_Matrix_e = np.ones((x.shape[0],Me))  # use the np.ones function\n",
        "\n",
        "    # 2. use a for loop to populate the Design_Matrix columnwise\n",
        "    for i, j in enumerate(np.arange(1,Ma+1)):\n",
        "        Design_Matrix_a[:,i] = a**j  # provide an expression for each column of Design_Matrix\n",
        "    for i, j in enumerate(np.arange(1,Mb+1)):\n",
        "        Design_Matrix_b[:,i] = b**j\n",
        "    for i, j in enumerate(np.arange(1,Mc+1)):\n",
        "        Design_Matrix_c[:,i] = c**j  # provide an expression for each column of Design_Matrix\n",
        "    for i, j in enumerate(np.arange(1,Md+1)):\n",
        "        Design_Matrix_d[:,i] = d**j        \n",
        "    for i, j in enumerate(np.arange(1,Me+1)):\n",
        "        Design_Matrix_e[:,i] = e**j  # provide an expression for each column of Design_Matrix\n",
        "\n",
        "\n",
        "    Design_Matrix = np.hstack((Design_Matrix_a, Design_Matrix_b,Design_Matrix_c, Design_Matrix_d,Design_Matrix_e))\n",
        "    Design_Matrix = np.hstack((ones, Design_Matrix))\n",
        "    \n",
        "    return Design_Matrix\n",
        "\n",
        "\n",
        "x = np.arange(10)  # x = [0, 1, 2, 3, ..., 99]\n",
        "z = np.arange(1,11)  # z = [0, 1, 2, 3, ..., 99]\n",
        "Design_Matrix = design_matrix(x, x, x, x, x, 5,5,5,5,5) \n",
        "print(Design_Matrix)"
      ],
      "execution_count": null,
      "outputs": [
        {
          "output_type": "error",
          "ename": "NameError",
          "evalue": "ignored",
          "traceback": [
            "\u001b[0;31m---------------------------------------------------------------------------\u001b[0m",
            "\u001b[0;31mNameError\u001b[0m                                 Traceback (most recent call last)",
            "\u001b[0;32m<ipython-input-52-2d1ffd3ac4cd>\u001b[0m in \u001b[0;36m<module>\u001b[0;34m()\u001b[0m\n\u001b[1;32m     30\u001b[0m \u001b[0mx\u001b[0m \u001b[0;34m=\u001b[0m \u001b[0mnp\u001b[0m\u001b[0;34m.\u001b[0m\u001b[0marange\u001b[0m\u001b[0;34m(\u001b[0m\u001b[0;36m10\u001b[0m\u001b[0;34m)\u001b[0m  \u001b[0;31m# x = [0, 1, 2, 3, ..., 99]\u001b[0m\u001b[0;34m\u001b[0m\u001b[0;34m\u001b[0m\u001b[0m\n\u001b[1;32m     31\u001b[0m \u001b[0mz\u001b[0m \u001b[0;34m=\u001b[0m \u001b[0mnp\u001b[0m\u001b[0;34m.\u001b[0m\u001b[0marange\u001b[0m\u001b[0;34m(\u001b[0m\u001b[0;36m1\u001b[0m\u001b[0;34m,\u001b[0m\u001b[0;36m11\u001b[0m\u001b[0;34m)\u001b[0m  \u001b[0;31m# z = [0, 1, 2, 3, ..., 99]\u001b[0m\u001b[0;34m\u001b[0m\u001b[0;34m\u001b[0m\u001b[0m\n\u001b[0;32m---> 32\u001b[0;31m \u001b[0mDesign_Matrix\u001b[0m \u001b[0;34m=\u001b[0m \u001b[0mdesign_matrix\u001b[0m\u001b[0;34m(\u001b[0m\u001b[0mx\u001b[0m\u001b[0;34m,\u001b[0m \u001b[0mx\u001b[0m\u001b[0;34m,\u001b[0m \u001b[0mx\u001b[0m\u001b[0;34m,\u001b[0m \u001b[0mx\u001b[0m\u001b[0;34m,\u001b[0m \u001b[0mx\u001b[0m\u001b[0;34m,\u001b[0m \u001b[0;36m5\u001b[0m\u001b[0;34m,\u001b[0m\u001b[0;36m5\u001b[0m\u001b[0;34m,\u001b[0m\u001b[0;36m5\u001b[0m\u001b[0;34m,\u001b[0m\u001b[0;36m5\u001b[0m\u001b[0;34m,\u001b[0m\u001b[0;36m5\u001b[0m\u001b[0;34m)\u001b[0m\u001b[0;34m\u001b[0m\u001b[0;34m\u001b[0m\u001b[0m\n\u001b[0m\u001b[1;32m     33\u001b[0m \u001b[0mprint\u001b[0m\u001b[0;34m(\u001b[0m\u001b[0mDesign_Matrix\u001b[0m\u001b[0;34m)\u001b[0m\u001b[0;34m\u001b[0m\u001b[0;34m\u001b[0m\u001b[0m\n",
            "\u001b[0;32m<ipython-input-52-2d1ffd3ac4cd>\u001b[0m in \u001b[0;36mdesign_matrix\u001b[0;34m(a, b, c, d, e, Ma, Mb, Mc, Md, Me)\u001b[0m\n\u001b[1;32m     10\u001b[0m \u001b[0;34m\u001b[0m\u001b[0m\n\u001b[1;32m     11\u001b[0m     \u001b[0;31m# 2. use a for loop to populate the Design_Matrix columnwise\u001b[0m\u001b[0;34m\u001b[0m\u001b[0;34m\u001b[0m\u001b[0;34m\u001b[0m\u001b[0m\n\u001b[0;32m---> 12\u001b[0;31m     \u001b[0;32mfor\u001b[0m \u001b[0mi\u001b[0m\u001b[0;34m,\u001b[0m \u001b[0mj\u001b[0m \u001b[0;32min\u001b[0m \u001b[0menumerate\u001b[0m\u001b[0;34m(\u001b[0m\u001b[0marange\u001b[0m\u001b[0;34m(\u001b[0m\u001b[0;36m1\u001b[0m\u001b[0;34m,\u001b[0m\u001b[0mMa\u001b[0m\u001b[0;34m+\u001b[0m\u001b[0;36m1\u001b[0m\u001b[0;34m)\u001b[0m\u001b[0;34m)\u001b[0m\u001b[0;34m:\u001b[0m\u001b[0;34m\u001b[0m\u001b[0;34m\u001b[0m\u001b[0m\n\u001b[0m\u001b[1;32m     13\u001b[0m         \u001b[0mDesign_Matrix_a\u001b[0m\u001b[0;34m[\u001b[0m\u001b[0;34m:\u001b[0m\u001b[0;34m,\u001b[0m\u001b[0mi\u001b[0m\u001b[0;34m]\u001b[0m \u001b[0;34m=\u001b[0m \u001b[0ma\u001b[0m\u001b[0;34m**\u001b[0m\u001b[0mj\u001b[0m  \u001b[0;31m# provide an expression for each column of Design_Matrix\u001b[0m\u001b[0;34m\u001b[0m\u001b[0;34m\u001b[0m\u001b[0m\n\u001b[1;32m     14\u001b[0m     \u001b[0;32mfor\u001b[0m \u001b[0mi\u001b[0m\u001b[0;34m,\u001b[0m \u001b[0mj\u001b[0m \u001b[0;32min\u001b[0m \u001b[0menumerate\u001b[0m\u001b[0;34m(\u001b[0m\u001b[0marange\u001b[0m\u001b[0;34m(\u001b[0m\u001b[0;36m1\u001b[0m\u001b[0;34m,\u001b[0m\u001b[0mMb\u001b[0m\u001b[0;34m+\u001b[0m\u001b[0;36m1\u001b[0m\u001b[0;34m)\u001b[0m\u001b[0;34m)\u001b[0m\u001b[0;34m:\u001b[0m\u001b[0;34m\u001b[0m\u001b[0;34m\u001b[0m\u001b[0m\n",
            "\u001b[0;31mNameError\u001b[0m: name 'arange' is not defined"
          ]
        }
      ]
    },
    {
      "cell_type": "code",
      "metadata": {
        "id": "sxvBtk8wr2Pu"
      },
      "source": [
        "# Fit Data (use linear regression, LASSO or rigde regression)\n",
        "poly = PolynomialFeatures(20)\n",
        "XtrainNew = poly.fit_transform(Xtrain)\n",
        "XvalNew = poly.fit_transform(Xval)\n",
        "reg = linear_model.Lasso(tol=0.04)\n",
        "reg.fit(XtrainNew, Ytrain)\n",
        "y_train_pred = reg.predict(XtrainNew)\n",
        "y_val_pred = reg.predict(XvalNew)\n",
        "\n",
        "XtrainNew.shape"
      ],
      "execution_count": null,
      "outputs": []
    },
    {
      "cell_type": "code",
      "metadata": {
        "id": "jt5BdOQzr2Pv"
      },
      "source": [
        "# Get MSE\n",
        "\n",
        "mseTrain = mean_squared_error(Ytrain, y_train_pred)\n",
        "maeTrain = mean_absolute_error(Ytrain, y_train_pred)\n",
        "\n",
        "print(f\"Training MSE: {mseTrain}\")\n",
        "print(f\"Training MAE: {maeTrain}\")\n",
        "\n",
        "mseVal = mean_squared_error(Yval, y_val_pred)\n",
        "maeVal = mean_absolute_error(Yval, y_val_pred)\n",
        "\n",
        "print(f\"Validation MSE: {mseVal}\")\n",
        "print(f\"Validation MAE: {maeVal}\")"
      ],
      "execution_count": null,
      "outputs": []
    },
    {
      "cell_type": "markdown",
      "metadata": {
        "id": "m4cGUthr_YkS"
      },
      "source": [
        "**Linear Regression(2nd order):** \\\\\n",
        "  Training MSE: 2098.652147298266 \\\\\n",
        "  Training MAE: 31.54300123719605 \\\\\n",
        "  Validation MSE: 1873.2185203114227 \\\\\n",
        "  Validation MAE: 29.84940607793905"
      ]
    }
  ]
}
